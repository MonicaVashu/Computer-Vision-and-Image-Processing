{
 "cells": [
  {
   "cell_type": "code",
   "execution_count": 116,
   "metadata": {},
   "outputs": [],
   "source": [
    "import cv2\n",
    "import numpy as np"
   ]
  },
  {
   "cell_type": "markdown",
   "metadata": {},
   "source": [
    "# image1 and image2"
   ]
  },
  {
   "cell_type": "code",
   "execution_count": 117,
   "metadata": {},
   "outputs": [],
   "source": [
    "original = cv2.imread(\"p1.jpg\")\n",
    "image_to_compare = cv2.imread(\"p2.jpg\")"
   ]
  },
  {
   "cell_type": "code",
   "execution_count": 118,
   "metadata": {},
   "outputs": [],
   "source": [
    "sift = cv2.xfeatures2d.SIFT_create(20)\n",
    "kp_1, desc_1 = sift.detectAndCompute(original, None)\n",
    "kp_2, desc_2 = sift.detectAndCompute(image_to_compare, None)"
   ]
  },
  {
   "cell_type": "code",
   "execution_count": 119,
   "metadata": {},
   "outputs": [],
   "source": [
    "from scipy.spatial import distance\n",
    "min_kp = {}\n",
    "kp_final1 =[]\n",
    "kp_final2 =[]\n",
    "desc1=[]\n",
    "desc2=[]\n",
    "\n",
    "for i in range(desc_2.shape[0]):\n",
    "    kp_new2 =[]\n",
    "    min_d = float('Inf')\n",
    "    for j in range(desc_1.shape[0]):\n",
    "        dst = distance.hamming(desc_1[j], desc_2[i])\n",
    "        if min_d > dst:\n",
    "            min_d = dst\n",
    "            kp_new2.append(kp_1[j])\n",
    "            desc2.append(desc_2[i])\n",
    "            desc1.append(desc_1[j])\n",
    "    if min_d < 90:\n",
    "        kp_final2.append(kp_2[i])\n",
    "    kp_final1.append(kp_new2[-1])"
   ]
  },
  {
   "cell_type": "code",
   "execution_count": 120,
   "metadata": {},
   "outputs": [
    {
     "data": {
      "text/plain": [
       "True"
      ]
     },
     "execution_count": 120,
     "metadata": {},
     "output_type": "execute_result"
    }
   ],
   "source": [
    "cv2.drawKeypoints(original,kp_final1,original)\n",
    "cv2.imwrite('sift_keypoints.jpg',original)\n",
    "\n",
    "cv2.drawKeypoints(image_to_compare,kp_final2,image_to_compare)\n",
    "cv2.imwrite('sift_keypoints2.jpg',image_to_compare)"
   ]
  },
  {
   "cell_type": "code",
   "execution_count": 121,
   "metadata": {},
   "outputs": [],
   "source": [
    "col = original.shape[1]+image_to_compare.shape[1]\n",
    "row = original.shape[0]\n",
    "org_col=original.shape[1]\n",
    "cmp_row=image_to_compare.shape[1]\n",
    "result=[]\n",
    "\n",
    "for i in range(row):\n",
    "    row_elements = []\n",
    "    for j in range(col):\n",
    "        if j < org_col:\n",
    "            row_elements.append(original[i][j])\n",
    "        else:\n",
    "            row_elements.append(image_to_compare[i-row][j-org_col])\n",
    "    result.append(row_elements)"
   ]
  },
  {
   "cell_type": "code",
   "execution_count": 122,
   "metadata": {},
   "outputs": [
    {
     "data": {
      "text/plain": [
       "True"
      ]
     },
     "execution_count": 122,
     "metadata": {},
     "output_type": "execute_result"
    }
   ],
   "source": [
    "result=np.array(result)\n",
    "cv2.imwrite('mergedImage.jpg',np.array(result))\n",
    "# print(result.shape)"
   ]
  },
  {
   "cell_type": "code",
   "execution_count": 123,
   "metadata": {},
   "outputs": [],
   "source": [
    "x1=np.zeros(len(kp_final2))\n",
    "y1=np.zeros(len(kp_final2))\n",
    "x2=np.zeros(len(kp_final2))\n",
    "y2=np.zeros(len(kp_final2))\n",
    "I1=[]\n",
    "I2=[]\n",
    "for i in range(len(kp_final1)):\n",
    "    I1.append(kp_final1[i].pt)\n",
    "    x1[i],y1[i]=I1[i]\n",
    "for i in range(len(kp_final2)):\n",
    "    I2.append(kp_final2[i].pt)\n",
    "    x2[i],y2[i]=I2[i]\n",
    "\n",
    "x1=x1.astype(int)\n",
    "x2=x2.astype(int)\n",
    "y1=y1.astype(int)\n",
    "y2=y2.astype(int)\n",
    "# x2"
   ]
  },
  {
   "cell_type": "code",
   "execution_count": 124,
   "metadata": {},
   "outputs": [
    {
     "name": "stderr",
     "output_type": "stream",
     "text": [
      "C:\\Users\\malin\\Anaconda3\\lib\\site-packages\\ipykernel_launcher.py:14: RuntimeWarning: overflow encountered in ubyte_scalars\n",
      "  \n"
     ]
    },
    {
     "data": {
      "text/plain": [
       "-1"
      ]
     },
     "execution_count": 124,
     "metadata": {},
     "output_type": "execute_result"
    }
   ],
   "source": [
    "varx1=[]\n",
    "vary1=[]\n",
    "varx2=[]\n",
    "vary2=[]\n",
    "diffx=[]\n",
    "x=original.shape[0]\n",
    "x=len(original)\n",
    "img=cv2.imread(\"C:/Users/malin/mergedImage.jpg\")\n",
    "for i in range(len(x1)):\n",
    "    x_1=x1[i]\n",
    "    y_1=y1[i]\n",
    "    x_2=x2[i]\n",
    "    y_2=y2[i]\n",
    "    if(original[x_1][y_1][1]-image_to_compare[x_2][y_2][1]>160):\n",
    "        img = cv2.line(img,(x_1,y_1),(x+x_2,y_2),(255,255,255),1)\n",
    "        varx1.append(x_1)\n",
    "        varx2.append(x_2)\n",
    "        vary1.append(y_1)\n",
    "        vary2.append(y_2)\n",
    "cv2.imwrite(\"line.jpg\",img)\n",
    "cv2.waitKey(0)"
   ]
  },
  {
   "cell_type": "code",
   "execution_count": 125,
   "metadata": {},
   "outputs": [],
   "source": [
    "I=0\n",
    "minimum=2000\n",
    "for i in range(len(vary1)):\n",
    "     if(vary1[i]<minimum):\n",
    "            minimum=vary1[i]\n",
    "            I=i\n",
    "# print(minimum)\n",
    "# print(I)\n",
    "i=vary2[I]"
   ]
  },
  {
   "cell_type": "code",
   "execution_count": 126,
   "metadata": {},
   "outputs": [
    {
     "name": "stdout",
     "output_type": "stream",
     "text": [
      "184\n"
     ]
    }
   ],
   "source": [
    "diff1 = vary2[I] - vary1[I]\n",
    "print(diff)"
   ]
  },
  {
   "cell_type": "code",
   "execution_count": 127,
   "metadata": {},
   "outputs": [],
   "source": [
    "# diff = vary1[I] - vary2[I]\n",
    "# print(diff)"
   ]
  },
  {
   "cell_type": "code",
   "execution_count": 128,
   "metadata": {},
   "outputs": [],
   "source": [
    "# print(varx1[I])\n",
    "# print(vary1[I])\n",
    "# print(varx2[I])\n",
    "# print(vary2[I])"
   ]
  },
  {
   "cell_type": "code",
   "execution_count": 129,
   "metadata": {},
   "outputs": [],
   "source": [
    "# image_to_compare = image_to_compare[diff:,:]\n",
    "c = np.zeros(shape=(diff1,image_to_compare.shape[1],3))\n",
    "# print(c.shape)\n",
    "# print(image_to_compare[diff:,:].shape)\n",
    "new = np.concatenate([image_to_compare[diff1:,:],c], axis = 0)\n",
    "# print(new.shape)"
   ]
  },
  {
   "cell_type": "code",
   "execution_count": 130,
   "metadata": {},
   "outputs": [
    {
     "data": {
      "text/plain": [
       "-1"
      ]
     },
     "execution_count": 130,
     "metadata": {},
     "output_type": "execute_result"
    }
   ],
   "source": [
    "x = original[:, :varx1[I]]\n",
    "y = new[:, varx2[I]:]\n",
    "# x=cv2.imread(\"C:/Users/malin/x.jpg\")\n",
    "# y=cv2.imread(\"C:/Users/malin/y.jpg\")\n",
    "\n",
    "m = np.concatenate([x,y], axis = 1)\n",
    "cv2.imwrite(\"m.jpg\",m)\n",
    "cv2.waitKey(0)"
   ]
  },
  {
   "cell_type": "markdown",
   "metadata": {},
   "source": [
    "# image 2 and image 3"
   ]
  },
  {
   "cell_type": "code",
   "execution_count": 131,
   "metadata": {},
   "outputs": [],
   "source": [
    "original1 = cv2.imread(\"p2.jpg\")\n",
    "image_to_compare1 = cv2.imread(\"p3.jpg\")"
   ]
  },
  {
   "cell_type": "code",
   "execution_count": 132,
   "metadata": {},
   "outputs": [],
   "source": [
    "sift = cv2.xfeatures2d.SIFT_create(500)\n",
    "kp_11, desc_11 = sift.detectAndCompute(original1, None)\n",
    "kp_21, desc_21 = sift.detectAndCompute(image_to_compare1, None)"
   ]
  },
  {
   "cell_type": "code",
   "execution_count": 133,
   "metadata": {},
   "outputs": [],
   "source": [
    "from scipy.spatial import distance\n",
    "min_kp = {}\n",
    "kp_final1 =[]\n",
    "kp_final2 =[]\n",
    "desc1=[]\n",
    "desc2=[]\n",
    "\n",
    "for i in range(desc_2.shape[0]):\n",
    "    kp_new2 =[]\n",
    "    min_d = float('Inf')\n",
    "    for j in range(desc_11.shape[0]):\n",
    "        dst = distance.hamming(desc_11[j], desc_21[i])\n",
    "        if min_d > dst:\n",
    "            min_d = dst\n",
    "            kp_new2.append(kp_11[j])\n",
    "            desc2.append(desc_21[i])\n",
    "            desc1.append(desc_11[j])\n",
    "    if min_d < 90:\n",
    "        kp_final2.append(kp_21[i])\n",
    "    kp_final1.append(kp_new2[-1])"
   ]
  },
  {
   "cell_type": "code",
   "execution_count": 134,
   "metadata": {},
   "outputs": [
    {
     "data": {
      "text/plain": [
       "True"
      ]
     },
     "execution_count": 134,
     "metadata": {},
     "output_type": "execute_result"
    }
   ],
   "source": [
    "cv2.drawKeypoints(original,kp_final1,original)\n",
    "cv2.imwrite('sift_keypoints3.jpg',original)\n",
    "\n",
    "cv2.drawKeypoints(image_to_compare,kp_final2,image_to_compare)\n",
    "cv2.imwrite('sift_keypoints4.jpg',image_to_compare)"
   ]
  },
  {
   "cell_type": "code",
   "execution_count": 135,
   "metadata": {},
   "outputs": [],
   "source": [
    "col = original1.shape[1]+image_to_compare1.shape[1]\n",
    "row = original1.shape[0]\n",
    "org_col=original1.shape[1]\n",
    "cmp_row=image_to_compare1.shape[1]\n",
    "result=[]\n",
    "\n",
    "for i in range(row):\n",
    "    row_elements = []\n",
    "    for j in range(col):\n",
    "        if j < org_col:\n",
    "            row_elements.append(original1[i][j])\n",
    "        else:\n",
    "            row_elements.append(image_to_compare1[i-row][j-org_col])\n",
    "    result.append(row_elements)"
   ]
  },
  {
   "cell_type": "code",
   "execution_count": 136,
   "metadata": {},
   "outputs": [
    {
     "data": {
      "text/plain": [
       "True"
      ]
     },
     "execution_count": 136,
     "metadata": {},
     "output_type": "execute_result"
    }
   ],
   "source": [
    "result=np.array(result)\n",
    "cv2.imwrite('mergedImage1.jpg',np.array(result))\n",
    "# print(result.shape)"
   ]
  },
  {
   "cell_type": "code",
   "execution_count": 137,
   "metadata": {},
   "outputs": [],
   "source": [
    "x1=np.zeros(len(kp_final2))\n",
    "y1=np.zeros(len(kp_final2))\n",
    "x2=np.zeros(len(kp_final2))\n",
    "y2=np.zeros(len(kp_final2))\n",
    "I1=[]\n",
    "I2=[]\n",
    "for i in range(len(kp_final1)):\n",
    "    I1.append(kp_final1[i].pt)\n",
    "    x1[i],y1[i]=I1[i]\n",
    "for i in range(len(kp_final2)):\n",
    "    I2.append(kp_final2[i].pt)\n",
    "    x2[i],y2[i]=I2[i]\n",
    "\n",
    "x1=x1.astype(int)\n",
    "x2=x2.astype(int)\n",
    "y1=y1.astype(int)\n",
    "y2=y2.astype(int)\n",
    "# x2"
   ]
  },
  {
   "cell_type": "code",
   "execution_count": 138,
   "metadata": {},
   "outputs": [],
   "source": [
    "# img=cv2.imread(\"C:/Users/malin/mergedImage1.jpg\")\n",
    "# print(img.shape)\n",
    "# print(original.shape)\n",
    "# print(image_to_compare.shape)"
   ]
  },
  {
   "cell_type": "code",
   "execution_count": 139,
   "metadata": {},
   "outputs": [
    {
     "name": "stderr",
     "output_type": "stream",
     "text": [
      "C:\\Users\\malin\\Anaconda3\\lib\\site-packages\\ipykernel_launcher.py:15: RuntimeWarning: overflow encountered in ubyte_scalars\n",
      "  from ipykernel import kernelapp as app\n"
     ]
    },
    {
     "data": {
      "text/plain": [
       "-1"
      ]
     },
     "execution_count": 139,
     "metadata": {},
     "output_type": "execute_result"
    }
   ],
   "source": [
    "#n2 n3\n",
    "varx1=[]\n",
    "vary1=[]\n",
    "varx2=[]\n",
    "vary2=[]\n",
    "diffx=[]\n",
    "x=original.shape[0]\n",
    "x=len(original)\n",
    "img=cv2.imread(\"C:/Users/malin/mergedImage1.jpg\")\n",
    "for i in range(len(x1)):\n",
    "    x_1=x1[i]\n",
    "    y_1=y1[i]\n",
    "    x_2=x2[i]\n",
    "    y_2=y2[i]\n",
    "    if(original[x_1][y_1][1]-image_to_compare[x_2][y_2][1]<10):\n",
    "        img = cv2.line(img,(x_1,y_1),(x+x_2,y_2),(255,255,255),1)\n",
    "        varx1.append(x_1)\n",
    "        varx2.append(x_2)\n",
    "        vary1.append(y_1)\n",
    "        vary2.append(y_2)\n",
    "cv2.imwrite(\"line1.jpg\",img)\n",
    "cv2.waitKey(0)"
   ]
  },
  {
   "cell_type": "code",
   "execution_count": 140,
   "metadata": {},
   "outputs": [],
   "source": [
    "I=0\n",
    "minimum=1\n",
    "for i in range(len(vary1)):\n",
    "     if(vary1[i]<minimum):\n",
    "            minimum=vary1[i]\n",
    "            I=i\n",
    "# print(minimum)\n",
    "# print(I)\n",
    "i=vary2[I]"
   ]
  },
  {
   "cell_type": "code",
   "execution_count": 141,
   "metadata": {},
   "outputs": [
    {
     "name": "stdout",
     "output_type": "stream",
     "text": [
      "-184\n"
     ]
    }
   ],
   "source": [
    "diff = vary2[I] - vary1[I]\n",
    "print(diff)"
   ]
  },
  {
   "cell_type": "code",
   "execution_count": 142,
   "metadata": {},
   "outputs": [
    {
     "name": "stdout",
     "output_type": "stream",
     "text": [
      "184\n"
     ]
    }
   ],
   "source": [
    "diff = vary1[I] - vary2[I]\n",
    "print(diff)"
   ]
  },
  {
   "cell_type": "code",
   "execution_count": 109,
   "metadata": {},
   "outputs": [],
   "source": [
    "# print(varx1[I])\n",
    "# print(vary1[I])\n",
    "# print(varx2[I])\n",
    "# print(vary2[I])"
   ]
  },
  {
   "cell_type": "code",
   "execution_count": 145,
   "metadata": {},
   "outputs": [
    {
     "name": "stdout",
     "output_type": "stream",
     "text": [
      "(124, 1000, 3)\n",
      "(876, 1000, 3)\n",
      "909\n"
     ]
    },
    {
     "data": {
      "text/plain": [
       "393"
      ]
     },
     "execution_count": 145,
     "metadata": {},
     "output_type": "execute_result"
    }
   ],
   "source": [
    "# image_to_compare = image_to_compare[diff:,:]\n",
    "diff = diff - diff1\n",
    "c = np.zeros(shape=(diff,image_to_compare1.shape[1],3))\n",
    "print(c.shape)\n",
    "print(image_to_compare1[diff:,:].shape)\n",
    "mm = image_to_compare1.shape[1]-diff\n",
    "new = np.concatenate([c,image_to_compare1[:mm,:]], axis = 0)\n",
    "# print(new.shape)\n",
    "cv2.imwrite(\"new.jpg\",new)\n",
    "print(varx1[I])\n",
    "varx2[I]"
   ]
  },
  {
   "cell_type": "code",
   "execution_count": 146,
   "metadata": {},
   "outputs": [
    {
     "data": {
      "text/plain": [
       "-1"
      ]
     },
     "execution_count": 146,
     "metadata": {},
     "output_type": "execute_result"
    }
   ],
   "source": [
    "x = original1[:, :varx1[I]]\n",
    "cv2.imwrite(\"test_x.jpg\", x)\n",
    "y = new[:, varx2[I]:]\n",
    "cv2.imwrite(\"test_y.jpg\",y)\n",
    "# x=cv2.imread(\"C:/Users/malin/x.jpg\")\n",
    "# y=cv2.imread(\"C:/Users/malin/y.jpg\")\n",
    "\n",
    "m = np.concatenate([x,y], axis = 1)\n",
    "cv2.imwrite(\"m1.jpg\",m)\n",
    "cv2.waitKey(0)"
   ]
  },
  {
   "cell_type": "markdown",
   "metadata": {},
   "source": [
    "# merge 2 results"
   ]
  },
  {
   "cell_type": "code",
   "execution_count": 147,
   "metadata": {},
   "outputs": [
    {
     "data": {
      "text/plain": [
       "True"
      ]
     },
     "execution_count": 147,
     "metadata": {},
     "output_type": "execute_result"
    }
   ],
   "source": [
    "x1= cv2.imread(\"m.jpg\")\n",
    "x2=cv2.imread(\"m1.jpg\")\n",
    "p2=cv2.imread(\"p2.jpg\")\n",
    "l=p2.shape[1]\n",
    "\n",
    "y=x2[:,l:]\n",
    "res=np.concatenate([x1,y],axis=1 )\n",
    "cv2.imwrite(\"final_pano.jpg\",res)"
   ]
  },
  {
   "cell_type": "code",
   "execution_count": null,
   "metadata": {},
   "outputs": [],
   "source": []
  },
  {
   "cell_type": "code",
   "execution_count": null,
   "metadata": {},
   "outputs": [],
   "source": []
  }
 ],
 "metadata": {
  "kernelspec": {
   "display_name": "Python 3",
   "language": "python",
   "name": "python3"
  },
  "language_info": {
   "codemirror_mode": {
    "name": "ipython",
    "version": 3
   },
   "file_extension": ".py",
   "mimetype": "text/x-python",
   "name": "python",
   "nbconvert_exporter": "python",
   "pygments_lexer": "ipython3",
   "version": "3.7.3"
  }
 },
 "nbformat": 4,
 "nbformat_minor": 2
}
