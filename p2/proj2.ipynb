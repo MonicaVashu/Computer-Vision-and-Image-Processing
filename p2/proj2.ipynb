{
 "cells": [
  {
   "cell_type": "code",
   "execution_count": 1,
   "metadata": {},
   "outputs": [],
   "source": [
    "import cv2\n",
    "import numpy as np\n",
    "import matplotlib.pyplot as plt\n",
    "from PIL import Image, ImageDraw"
   ]
  },
  {
   "cell_type": "code",
   "execution_count": 2,
   "metadata": {},
   "outputs": [],
   "source": [
    "original = cv2.imread(\"p1.jpg\")\n",
    "image_to_compare = cv2.imread(\"p2.jpg\")"
   ]
  },
  {
   "cell_type": "code",
   "execution_count": 3,
   "metadata": {},
   "outputs": [],
   "source": [
    "# 2) Check for similarities between the 2 images\n",
    "sift = cv2.xfeatures2d.SIFT_create(2000)\n",
    "kp_1, desc_1 = sift.detectAndCompute(original, None)\n",
    "kp_2, desc_2 = sift.detectAndCompute(image_to_compare, None)\n"
   ]
  },
  {
   "cell_type": "code",
   "execution_count": 4,
   "metadata": {},
   "outputs": [],
   "source": [
    "from scipy.spatial import distance\n",
    "min_kp = {}\n",
    "kp_final1 =[]\n",
    "kp_final2 =[]\n",
    "\n",
    "\n",
    "for i in range(desc_1.shape[0]):\n",
    "#     kp_new1.append(kp_1[i])\n",
    "    kp_new2 =[]\n",
    "    min_d = float('Inf')\n",
    "    for j in range(desc_2.shape[0]):\n",
    "        dst = distance.euclidean(desc_1[i], desc_2[j])\n",
    "        if min_d > dst:\n",
    "            min_d = dst\n",
    "            kp_new2.append(kp_2[j])\n",
    "#             min_kp[kp_1[i]] = kp_2[j]\n",
    "    kp_final1.append(kp_1[i])\n",
    "    kp_final2.append(kp_new2[-1])"
   ]
  },
  {
   "cell_type": "code",
   "execution_count": 5,
   "metadata": {},
   "outputs": [
    {
     "data": {
      "text/plain": [
       "True"
      ]
     },
     "execution_count": 5,
     "metadata": {},
     "output_type": "execute_result"
    }
   ],
   "source": [
    "cv2.drawKeypoints(original,kp_final1,original)\n",
    "cv2.imwrite('sift_keypoints.jpg',original)"
   ]
  },
  {
   "cell_type": "code",
   "execution_count": 6,
   "metadata": {},
   "outputs": [
    {
     "data": {
      "text/plain": [
       "True"
      ]
     },
     "execution_count": 6,
     "metadata": {},
     "output_type": "execute_result"
    }
   ],
   "source": [
    "cv2.drawKeypoints(image_to_compare,kp_final2,image_to_compare)\n",
    "cv2.imwrite('sift_keypoints2.jpg',image_to_compare)"
   ]
  },
  {
   "cell_type": "code",
   "execution_count": 7,
   "metadata": {},
   "outputs": [
    {
     "name": "stdout",
     "output_type": "stream",
     "text": [
      "(286.24102783203125, 817.3250732421875)\n"
     ]
    }
   ],
   "source": [
    "match_in_object = kp_final1[0].pt\n",
    "match_in_scene = kp_final2[0].pt;\n",
    "print(match_in_object)"
   ]
  },
  {
   "cell_type": "code",
   "execution_count": 8,
   "metadata": {},
   "outputs": [
    {
     "name": "stderr",
     "output_type": "stream",
     "text": [
      "IOPub data rate exceeded.\n",
      "The notebook server will temporarily stop sending output\n",
      "to the client in order to avoid crashing it.\n",
      "To change this limit, set the config variable\n",
      "`--NotebookApp.iopub_data_rate_limit`.\n",
      "\n",
      "Current values:\n",
      "NotebookApp.iopub_data_rate_limit=1000000.0 (bytes/sec)\n",
      "NotebookApp.rate_limit_window=3.0 (secs)\n",
      "\n"
     ]
    }
   ],
   "source": [
    "col = original.shape[1]+image_to_compare.shape[1]\n",
    "row = original.shape[0]\n",
    "\n",
    "# print(row)\n",
    "# print(col)\n",
    "org_col=original.shape[1]\n",
    "cmp_row=image_to_compare.shape[1]\n",
    "result=[]\n",
    "\n",
    "for i in range(row):\n",
    "    row_elements = []\n",
    "    for j in range(col-1):\n",
    "        if j < org_col:\n",
    "            row_elements.append(original[i][j])\n",
    "        else:\n",
    "            row_elements.append(image_to_compare[i-row][j-org_col])\n",
    "    result.append(row_elements)\n",
    "print(result)"
   ]
  },
  {
   "cell_type": "code",
   "execution_count": 9,
   "metadata": {},
   "outputs": [
    {
     "data": {
      "text/plain": [
       "True"
      ]
     },
     "execution_count": 9,
     "metadata": {},
     "output_type": "execute_result"
    }
   ],
   "source": [
    "result=np.array(result)\n",
    "cv2.imwrite('mergedImage.jpg',np.array(result))"
   ]
  },
  {
   "cell_type": "code",
   "execution_count": 10,
   "metadata": {},
   "outputs": [
    {
     "data": {
      "text/plain": [
       "-1"
      ]
     },
     "execution_count": 10,
     "metadata": {},
     "output_type": "execute_result"
    }
   ],
   "source": [
    "img = cv2.imread(\"C:/Users/malin/mergedImage.jpg\")\n",
    "# Draw a diagonal blue line with thickness of 5 px\n",
    "img = cv2.line(img,(286,817),(1286,1000),(255,0,0),1)\n",
    "cv2.imwrite(\"line.jpg\",img)\n",
    "cv2.waitKey(0)"
   ]
  },
  {
   "cell_type": "code",
   "execution_count": 20,
   "metadata": {},
   "outputs": [
    {
     "name": "stdout",
     "output_type": "stream",
     "text": [
      "(498.7777404785156, 371.4212341308594)\n",
      "(95.80150604248047, 431.45849609375)\n",
      "2000\n"
     ]
    }
   ],
   "source": [
    "match_in_object = kp_final1[6].pt\n",
    "match_in_scene = kp_final2[6].pt;\n",
    "print(match_in_object)\n",
    "print(match_in_scene)\n",
    "print(len(kp_final1))"
   ]
  },
  {
   "cell_type": "code",
   "execution_count": null,
   "metadata": {},
   "outputs": [],
   "source": []
  },
  {
   "cell_type": "code",
   "execution_count": 14,
   "metadata": {},
   "outputs": [
    {
     "data": {
      "text/plain": [
       "-1"
      ]
     },
     "execution_count": 14,
     "metadata": {},
     "output_type": "execute_result"
    }
   ],
   "source": [
    "i1,j1=match_in_object\n",
    "i2,j2=match_in_scene\n",
    "\n",
    "i1=int(i1)\n",
    "j1=int(j1)\n",
    "i2=int(i2)\n",
    "j2=int(j2)\n",
    "\n",
    "img = cv2.imread(\"C:/Users/malin/mergedImage.jpg\")\n",
    "# Draw a diagonal blue line with thickness of 5 px\n",
    "img = cv2.line(img,(i1,j1),(1000+i2,j2),(255,255,255),1)\n",
    "cv2.imwrite(\"line.jpg\",img)\n",
    "cv2.waitKey(0)"
   ]
  },
  {
   "cell_type": "code",
   "execution_count": null,
   "metadata": {},
   "outputs": [],
   "source": []
  }
 ],
 "metadata": {
  "kernelspec": {
   "display_name": "Python 3",
   "language": "python",
   "name": "python3"
  },
  "language_info": {
   "codemirror_mode": {
    "name": "ipython",
    "version": 3
   },
   "file_extension": ".py",
   "mimetype": "text/x-python",
   "name": "python",
   "nbconvert_exporter": "python",
   "pygments_lexer": "ipython3",
   "version": "3.7.3"
  }
 },
 "nbformat": 4,
 "nbformat_minor": 2
}
